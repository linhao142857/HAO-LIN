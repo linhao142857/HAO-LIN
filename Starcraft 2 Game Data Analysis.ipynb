{
 "cells": [
  {
   "cell_type": "code",
   "execution_count": 14,
   "metadata": {},
   "outputs": [],
   "source": [
    "import pandas as pd\n",
    "import numpy as np\n",
    "import matplotlib.pyplot as plt\n",
    "#from pandas.tools.plotting import scatter_matrix\n",
    "import seaborn as sns\n",
    "from sklearn.cluster import KMeans \n",
    "from sklearn.preprocessing import MinMaxScaler\n",
    "from mpl_toolkits.mplot3d import Axes3D\n",
    "from operator import itemgetter\n",
    "from scipy.cluster.hierarchy import dendrogram, linkage\n",
    "#import squarify\n",
    "\n",
    "import matplotlib"
   ]
  },
  {
   "cell_type": "markdown",
   "metadata": {},
   "source": [
    "## Import data from SoyGema\n",
    "Saved as dataframe(df)"
   ]
  },
  {
   "cell_type": "code",
   "execution_count": 6,
   "metadata": {},
   "outputs": [
    {
     "name": "stdout",
     "output_type": "stream",
     "text": [
      "<class 'pandas.core.frame.DataFrame'>\n",
      "RangeIndex: 3395 entries, 0 to 3394\n",
      "Data columns (total 21 columns):\n",
      "GameID                3395 non-null int64\n",
      "LeagueIndex           3395 non-null int64\n",
      "Age                   3340 non-null float64\n",
      "HoursPerWeek          3339 non-null float64\n",
      "TotalHours            3338 non-null float64\n",
      "APM                   3395 non-null float64\n",
      "SelectByHotkeys       3395 non-null float64\n",
      "AssignToHotkeys       3395 non-null float64\n",
      "UniqueHotkeys         3395 non-null float64\n",
      "MinimapAttacks        3395 non-null float64\n",
      "MinimapRightClicks    3395 non-null float64\n",
      "NumberOfPACs          3395 non-null float64\n",
      "GapBetweenPACs        3395 non-null float64\n",
      "ActionLatency         3395 non-null float64\n",
      "ActionsInPAC          3395 non-null float64\n",
      "TotalMapExplored      3395 non-null float64\n",
      "WorkersMade           3395 non-null float64\n",
      "UniqueUnitsMade       3395 non-null float64\n",
      "ComplexUnitsMade      3395 non-null float64\n",
      "ComplexAbilityUsed    3395 non-null float64\n",
      "MaxTimeStamp          3395 non-null int64\n",
      "dtypes: float64(18), int64(3)\n",
      "memory usage: 557.1 KB\n"
     ]
    }
   ],
   "source": [
    "url = \"https://raw.githubusercontent.com/SoyGema/Starcraft_2_Data_Analysis/master/data/starcraft.csv\"\n",
    "df = pd.read_csv(url)\n",
    "df.info()"
   ]
  },
  {
   "cell_type": "code",
   "execution_count": 7,
   "metadata": {},
   "outputs": [
    {
     "data": {
      "text/html": [
       "<div>\n",
       "<style scoped>\n",
       "    .dataframe tbody tr th:only-of-type {\n",
       "        vertical-align: middle;\n",
       "    }\n",
       "\n",
       "    .dataframe tbody tr th {\n",
       "        vertical-align: top;\n",
       "    }\n",
       "\n",
       "    .dataframe thead th {\n",
       "        text-align: right;\n",
       "    }\n",
       "</style>\n",
       "<table border=\"1\" class=\"dataframe\">\n",
       "  <thead>\n",
       "    <tr style=\"text-align: right;\">\n",
       "      <th></th>\n",
       "      <th>GameID</th>\n",
       "      <th>LeagueIndex</th>\n",
       "      <th>Age</th>\n",
       "      <th>HoursPerWeek</th>\n",
       "      <th>TotalHours</th>\n",
       "      <th>APM</th>\n",
       "      <th>SelectByHotkeys</th>\n",
       "      <th>AssignToHotkeys</th>\n",
       "      <th>UniqueHotkeys</th>\n",
       "      <th>MinimapAttacks</th>\n",
       "      <th>...</th>\n",
       "      <th>NumberOfPACs</th>\n",
       "      <th>GapBetweenPACs</th>\n",
       "      <th>ActionLatency</th>\n",
       "      <th>ActionsInPAC</th>\n",
       "      <th>TotalMapExplored</th>\n",
       "      <th>WorkersMade</th>\n",
       "      <th>UniqueUnitsMade</th>\n",
       "      <th>ComplexUnitsMade</th>\n",
       "      <th>ComplexAbilityUsed</th>\n",
       "      <th>MaxTimeStamp</th>\n",
       "    </tr>\n",
       "  </thead>\n",
       "  <tbody>\n",
       "    <tr>\n",
       "      <td>0</td>\n",
       "      <td>52</td>\n",
       "      <td>5</td>\n",
       "      <td>27.0</td>\n",
       "      <td>10.0</td>\n",
       "      <td>3000.0</td>\n",
       "      <td>143.7180</td>\n",
       "      <td>0.003515</td>\n",
       "      <td>0.000220</td>\n",
       "      <td>0.000055</td>\n",
       "      <td>0.000110</td>\n",
       "      <td>...</td>\n",
       "      <td>0.004849</td>\n",
       "      <td>32.6677</td>\n",
       "      <td>40.8673</td>\n",
       "      <td>4.7508</td>\n",
       "      <td>0.000220</td>\n",
       "      <td>0.001397</td>\n",
       "      <td>0.000047</td>\n",
       "      <td>0.0</td>\n",
       "      <td>0.000000</td>\n",
       "      <td>127448</td>\n",
       "    </tr>\n",
       "    <tr>\n",
       "      <td>1</td>\n",
       "      <td>55</td>\n",
       "      <td>5</td>\n",
       "      <td>23.0</td>\n",
       "      <td>10.0</td>\n",
       "      <td>5000.0</td>\n",
       "      <td>129.2322</td>\n",
       "      <td>0.003304</td>\n",
       "      <td>0.000259</td>\n",
       "      <td>0.000069</td>\n",
       "      <td>0.000294</td>\n",
       "      <td>...</td>\n",
       "      <td>0.004307</td>\n",
       "      <td>32.9194</td>\n",
       "      <td>42.3454</td>\n",
       "      <td>4.8434</td>\n",
       "      <td>0.000381</td>\n",
       "      <td>0.001194</td>\n",
       "      <td>0.000087</td>\n",
       "      <td>0.0</td>\n",
       "      <td>0.000208</td>\n",
       "      <td>57812</td>\n",
       "    </tr>\n",
       "    <tr>\n",
       "      <td>2</td>\n",
       "      <td>56</td>\n",
       "      <td>4</td>\n",
       "      <td>30.0</td>\n",
       "      <td>10.0</td>\n",
       "      <td>200.0</td>\n",
       "      <td>69.9612</td>\n",
       "      <td>0.001101</td>\n",
       "      <td>0.000336</td>\n",
       "      <td>0.000042</td>\n",
       "      <td>0.000294</td>\n",
       "      <td>...</td>\n",
       "      <td>0.002926</td>\n",
       "      <td>44.6475</td>\n",
       "      <td>75.3548</td>\n",
       "      <td>4.0430</td>\n",
       "      <td>0.000231</td>\n",
       "      <td>0.000745</td>\n",
       "      <td>0.000063</td>\n",
       "      <td>0.0</td>\n",
       "      <td>0.000189</td>\n",
       "      <td>95360</td>\n",
       "    </tr>\n",
       "    <tr>\n",
       "      <td>3</td>\n",
       "      <td>57</td>\n",
       "      <td>3</td>\n",
       "      <td>19.0</td>\n",
       "      <td>20.0</td>\n",
       "      <td>400.0</td>\n",
       "      <td>107.6016</td>\n",
       "      <td>0.001034</td>\n",
       "      <td>0.000213</td>\n",
       "      <td>0.000011</td>\n",
       "      <td>0.000053</td>\n",
       "      <td>...</td>\n",
       "      <td>0.003783</td>\n",
       "      <td>29.2203</td>\n",
       "      <td>53.7352</td>\n",
       "      <td>4.9155</td>\n",
       "      <td>0.000202</td>\n",
       "      <td>0.000426</td>\n",
       "      <td>0.000075</td>\n",
       "      <td>0.0</td>\n",
       "      <td>0.000384</td>\n",
       "      <td>93852</td>\n",
       "    </tr>\n",
       "    <tr>\n",
       "      <td>4</td>\n",
       "      <td>58</td>\n",
       "      <td>3</td>\n",
       "      <td>32.0</td>\n",
       "      <td>10.0</td>\n",
       "      <td>500.0</td>\n",
       "      <td>122.8908</td>\n",
       "      <td>0.001136</td>\n",
       "      <td>0.000327</td>\n",
       "      <td>0.000039</td>\n",
       "      <td>0.000000</td>\n",
       "      <td>...</td>\n",
       "      <td>0.002368</td>\n",
       "      <td>22.6885</td>\n",
       "      <td>62.0813</td>\n",
       "      <td>9.3740</td>\n",
       "      <td>0.000289</td>\n",
       "      <td>0.001174</td>\n",
       "      <td>0.000077</td>\n",
       "      <td>0.0</td>\n",
       "      <td>0.000019</td>\n",
       "      <td>51936</td>\n",
       "    </tr>\n",
       "  </tbody>\n",
       "</table>\n",
       "<p>5 rows × 21 columns</p>\n",
       "</div>"
      ],
      "text/plain": [
       "   GameID  LeagueIndex   Age  HoursPerWeek  TotalHours       APM  \\\n",
       "0      52            5  27.0          10.0      3000.0  143.7180   \n",
       "1      55            5  23.0          10.0      5000.0  129.2322   \n",
       "2      56            4  30.0          10.0       200.0   69.9612   \n",
       "3      57            3  19.0          20.0       400.0  107.6016   \n",
       "4      58            3  32.0          10.0       500.0  122.8908   \n",
       "\n",
       "   SelectByHotkeys  AssignToHotkeys  UniqueHotkeys  MinimapAttacks  ...  \\\n",
       "0         0.003515         0.000220       0.000055        0.000110  ...   \n",
       "1         0.003304         0.000259       0.000069        0.000294  ...   \n",
       "2         0.001101         0.000336       0.000042        0.000294  ...   \n",
       "3         0.001034         0.000213       0.000011        0.000053  ...   \n",
       "4         0.001136         0.000327       0.000039        0.000000  ...   \n",
       "\n",
       "   NumberOfPACs  GapBetweenPACs  ActionLatency  ActionsInPAC  \\\n",
       "0      0.004849         32.6677        40.8673        4.7508   \n",
       "1      0.004307         32.9194        42.3454        4.8434   \n",
       "2      0.002926         44.6475        75.3548        4.0430   \n",
       "3      0.003783         29.2203        53.7352        4.9155   \n",
       "4      0.002368         22.6885        62.0813        9.3740   \n",
       "\n",
       "   TotalMapExplored  WorkersMade  UniqueUnitsMade  ComplexUnitsMade  \\\n",
       "0          0.000220     0.001397         0.000047               0.0   \n",
       "1          0.000381     0.001194         0.000087               0.0   \n",
       "2          0.000231     0.000745         0.000063               0.0   \n",
       "3          0.000202     0.000426         0.000075               0.0   \n",
       "4          0.000289     0.001174         0.000077               0.0   \n",
       "\n",
       "   ComplexAbilityUsed  MaxTimeStamp  \n",
       "0            0.000000        127448  \n",
       "1            0.000208         57812  \n",
       "2            0.000189         95360  \n",
       "3            0.000384         93852  \n",
       "4            0.000019         51936  \n",
       "\n",
       "[5 rows x 21 columns]"
      ]
     },
     "execution_count": 7,
     "metadata": {},
     "output_type": "execute_result"
    }
   ],
   "source": [
    "df.head()"
   ]
  },
  {
   "cell_type": "code",
   "execution_count": 9,
   "metadata": {},
   "outputs": [
    {
     "data": {
      "text/html": [
       "<div>\n",
       "<style scoped>\n",
       "    .dataframe tbody tr th:only-of-type {\n",
       "        vertical-align: middle;\n",
       "    }\n",
       "\n",
       "    .dataframe tbody tr th {\n",
       "        vertical-align: top;\n",
       "    }\n",
       "\n",
       "    .dataframe thead th {\n",
       "        text-align: right;\n",
       "    }\n",
       "</style>\n",
       "<table border=\"1\" class=\"dataframe\">\n",
       "  <thead>\n",
       "    <tr style=\"text-align: right;\">\n",
       "      <th></th>\n",
       "      <th>GameID</th>\n",
       "      <th>LeagueIndex</th>\n",
       "      <th>Age</th>\n",
       "      <th>HoursPerWeek</th>\n",
       "      <th>TotalHours</th>\n",
       "      <th>APM</th>\n",
       "      <th>SelectByHotkeys</th>\n",
       "      <th>AssignToHotkeys</th>\n",
       "      <th>UniqueHotkeys</th>\n",
       "      <th>MinimapAttacks</th>\n",
       "      <th>...</th>\n",
       "      <th>NumberOfPACs</th>\n",
       "      <th>GapBetweenPACs</th>\n",
       "      <th>ActionLatency</th>\n",
       "      <th>ActionsInPAC</th>\n",
       "      <th>TotalMapExplored</th>\n",
       "      <th>WorkersMade</th>\n",
       "      <th>UniqueUnitsMade</th>\n",
       "      <th>ComplexUnitsMade</th>\n",
       "      <th>ComplexAbilityUsed</th>\n",
       "      <th>MaxTimeStamp</th>\n",
       "    </tr>\n",
       "  </thead>\n",
       "  <tbody>\n",
       "    <tr>\n",
       "      <td>count</td>\n",
       "      <td>3395.000000</td>\n",
       "      <td>3395.000000</td>\n",
       "      <td>3340.000000</td>\n",
       "      <td>3339.000000</td>\n",
       "      <td>3338.000000</td>\n",
       "      <td>3395.000000</td>\n",
       "      <td>3395.000000</td>\n",
       "      <td>3395.000000</td>\n",
       "      <td>3395.000000</td>\n",
       "      <td>3395.000000</td>\n",
       "      <td>...</td>\n",
       "      <td>3395.000000</td>\n",
       "      <td>3395.000000</td>\n",
       "      <td>3395.000000</td>\n",
       "      <td>3395.000000</td>\n",
       "      <td>3395.000000</td>\n",
       "      <td>3395.000000</td>\n",
       "      <td>3395.000000</td>\n",
       "      <td>3395.000000</td>\n",
       "      <td>3395.000000</td>\n",
       "      <td>3395.000000</td>\n",
       "    </tr>\n",
       "    <tr>\n",
       "      <td>mean</td>\n",
       "      <td>4805.012371</td>\n",
       "      <td>4.184094</td>\n",
       "      <td>21.647904</td>\n",
       "      <td>15.910752</td>\n",
       "      <td>960.421809</td>\n",
       "      <td>117.046947</td>\n",
       "      <td>0.004299</td>\n",
       "      <td>0.000374</td>\n",
       "      <td>0.000059</td>\n",
       "      <td>0.000098</td>\n",
       "      <td>...</td>\n",
       "      <td>0.003463</td>\n",
       "      <td>40.361562</td>\n",
       "      <td>63.739403</td>\n",
       "      <td>5.272988</td>\n",
       "      <td>0.000283</td>\n",
       "      <td>0.001032</td>\n",
       "      <td>0.000085</td>\n",
       "      <td>0.000059</td>\n",
       "      <td>0.000142</td>\n",
       "      <td>83598.229161</td>\n",
       "    </tr>\n",
       "    <tr>\n",
       "      <td>std</td>\n",
       "      <td>2719.944851</td>\n",
       "      <td>1.517327</td>\n",
       "      <td>4.206341</td>\n",
       "      <td>11.962912</td>\n",
       "      <td>17318.133922</td>\n",
       "      <td>51.945291</td>\n",
       "      <td>0.005284</td>\n",
       "      <td>0.000225</td>\n",
       "      <td>0.000038</td>\n",
       "      <td>0.000166</td>\n",
       "      <td>...</td>\n",
       "      <td>0.000992</td>\n",
       "      <td>17.153570</td>\n",
       "      <td>19.238869</td>\n",
       "      <td>1.494835</td>\n",
       "      <td>0.000087</td>\n",
       "      <td>0.000519</td>\n",
       "      <td>0.000025</td>\n",
       "      <td>0.000111</td>\n",
       "      <td>0.000265</td>\n",
       "      <td>33497.667966</td>\n",
       "    </tr>\n",
       "    <tr>\n",
       "      <td>min</td>\n",
       "      <td>52.000000</td>\n",
       "      <td>1.000000</td>\n",
       "      <td>16.000000</td>\n",
       "      <td>0.000000</td>\n",
       "      <td>3.000000</td>\n",
       "      <td>22.059600</td>\n",
       "      <td>0.000000</td>\n",
       "      <td>0.000000</td>\n",
       "      <td>0.000000</td>\n",
       "      <td>0.000000</td>\n",
       "      <td>...</td>\n",
       "      <td>0.000679</td>\n",
       "      <td>6.666700</td>\n",
       "      <td>24.093600</td>\n",
       "      <td>2.038900</td>\n",
       "      <td>0.000091</td>\n",
       "      <td>0.000077</td>\n",
       "      <td>0.000020</td>\n",
       "      <td>0.000000</td>\n",
       "      <td>0.000000</td>\n",
       "      <td>25224.000000</td>\n",
       "    </tr>\n",
       "    <tr>\n",
       "      <td>25%</td>\n",
       "      <td>2464.500000</td>\n",
       "      <td>3.000000</td>\n",
       "      <td>19.000000</td>\n",
       "      <td>8.000000</td>\n",
       "      <td>300.000000</td>\n",
       "      <td>79.900200</td>\n",
       "      <td>0.001258</td>\n",
       "      <td>0.000204</td>\n",
       "      <td>0.000033</td>\n",
       "      <td>0.000000</td>\n",
       "      <td>...</td>\n",
       "      <td>0.002754</td>\n",
       "      <td>28.957750</td>\n",
       "      <td>50.446600</td>\n",
       "      <td>4.272850</td>\n",
       "      <td>0.000224</td>\n",
       "      <td>0.000683</td>\n",
       "      <td>0.000068</td>\n",
       "      <td>0.000000</td>\n",
       "      <td>0.000000</td>\n",
       "      <td>60090.000000</td>\n",
       "    </tr>\n",
       "    <tr>\n",
       "      <td>50%</td>\n",
       "      <td>4874.000000</td>\n",
       "      <td>4.000000</td>\n",
       "      <td>21.000000</td>\n",
       "      <td>12.000000</td>\n",
       "      <td>500.000000</td>\n",
       "      <td>108.010200</td>\n",
       "      <td>0.002500</td>\n",
       "      <td>0.000353</td>\n",
       "      <td>0.000053</td>\n",
       "      <td>0.000040</td>\n",
       "      <td>...</td>\n",
       "      <td>0.003395</td>\n",
       "      <td>36.723500</td>\n",
       "      <td>60.931800</td>\n",
       "      <td>5.095500</td>\n",
       "      <td>0.000270</td>\n",
       "      <td>0.000905</td>\n",
       "      <td>0.000082</td>\n",
       "      <td>0.000000</td>\n",
       "      <td>0.000020</td>\n",
       "      <td>81012.000000</td>\n",
       "    </tr>\n",
       "    <tr>\n",
       "      <td>75%</td>\n",
       "      <td>7108.500000</td>\n",
       "      <td>5.000000</td>\n",
       "      <td>24.000000</td>\n",
       "      <td>20.000000</td>\n",
       "      <td>800.000000</td>\n",
       "      <td>142.790400</td>\n",
       "      <td>0.005133</td>\n",
       "      <td>0.000499</td>\n",
       "      <td>0.000079</td>\n",
       "      <td>0.000119</td>\n",
       "      <td>...</td>\n",
       "      <td>0.004027</td>\n",
       "      <td>48.290500</td>\n",
       "      <td>73.681300</td>\n",
       "      <td>6.033600</td>\n",
       "      <td>0.000325</td>\n",
       "      <td>0.001259</td>\n",
       "      <td>0.000099</td>\n",
       "      <td>0.000086</td>\n",
       "      <td>0.000181</td>\n",
       "      <td>102074.000000</td>\n",
       "    </tr>\n",
       "    <tr>\n",
       "      <td>max</td>\n",
       "      <td>10095.000000</td>\n",
       "      <td>8.000000</td>\n",
       "      <td>44.000000</td>\n",
       "      <td>168.000000</td>\n",
       "      <td>1000000.000000</td>\n",
       "      <td>389.831400</td>\n",
       "      <td>0.043088</td>\n",
       "      <td>0.001752</td>\n",
       "      <td>0.000338</td>\n",
       "      <td>0.003019</td>\n",
       "      <td>...</td>\n",
       "      <td>0.007971</td>\n",
       "      <td>237.142900</td>\n",
       "      <td>176.372100</td>\n",
       "      <td>18.558100</td>\n",
       "      <td>0.000832</td>\n",
       "      <td>0.005149</td>\n",
       "      <td>0.000202</td>\n",
       "      <td>0.000902</td>\n",
       "      <td>0.003084</td>\n",
       "      <td>388032.000000</td>\n",
       "    </tr>\n",
       "  </tbody>\n",
       "</table>\n",
       "<p>8 rows × 21 columns</p>\n",
       "</div>"
      ],
      "text/plain": [
       "             GameID  LeagueIndex          Age  HoursPerWeek      TotalHours  \\\n",
       "count   3395.000000  3395.000000  3340.000000   3339.000000     3338.000000   \n",
       "mean    4805.012371     4.184094    21.647904     15.910752      960.421809   \n",
       "std     2719.944851     1.517327     4.206341     11.962912    17318.133922   \n",
       "min       52.000000     1.000000    16.000000      0.000000        3.000000   \n",
       "25%     2464.500000     3.000000    19.000000      8.000000      300.000000   \n",
       "50%     4874.000000     4.000000    21.000000     12.000000      500.000000   \n",
       "75%     7108.500000     5.000000    24.000000     20.000000      800.000000   \n",
       "max    10095.000000     8.000000    44.000000    168.000000  1000000.000000   \n",
       "\n",
       "               APM  SelectByHotkeys  AssignToHotkeys  UniqueHotkeys  \\\n",
       "count  3395.000000      3395.000000      3395.000000    3395.000000   \n",
       "mean    117.046947         0.004299         0.000374       0.000059   \n",
       "std      51.945291         0.005284         0.000225       0.000038   \n",
       "min      22.059600         0.000000         0.000000       0.000000   \n",
       "25%      79.900200         0.001258         0.000204       0.000033   \n",
       "50%     108.010200         0.002500         0.000353       0.000053   \n",
       "75%     142.790400         0.005133         0.000499       0.000079   \n",
       "max     389.831400         0.043088         0.001752       0.000338   \n",
       "\n",
       "       MinimapAttacks  ...  NumberOfPACs  GapBetweenPACs  ActionLatency  \\\n",
       "count     3395.000000  ...   3395.000000     3395.000000    3395.000000   \n",
       "mean         0.000098  ...      0.003463       40.361562      63.739403   \n",
       "std          0.000166  ...      0.000992       17.153570      19.238869   \n",
       "min          0.000000  ...      0.000679        6.666700      24.093600   \n",
       "25%          0.000000  ...      0.002754       28.957750      50.446600   \n",
       "50%          0.000040  ...      0.003395       36.723500      60.931800   \n",
       "75%          0.000119  ...      0.004027       48.290500      73.681300   \n",
       "max          0.003019  ...      0.007971      237.142900     176.372100   \n",
       "\n",
       "       ActionsInPAC  TotalMapExplored  WorkersMade  UniqueUnitsMade  \\\n",
       "count   3395.000000       3395.000000  3395.000000      3395.000000   \n",
       "mean       5.272988          0.000283     0.001032         0.000085   \n",
       "std        1.494835          0.000087     0.000519         0.000025   \n",
       "min        2.038900          0.000091     0.000077         0.000020   \n",
       "25%        4.272850          0.000224     0.000683         0.000068   \n",
       "50%        5.095500          0.000270     0.000905         0.000082   \n",
       "75%        6.033600          0.000325     0.001259         0.000099   \n",
       "max       18.558100          0.000832     0.005149         0.000202   \n",
       "\n",
       "       ComplexUnitsMade  ComplexAbilityUsed   MaxTimeStamp  \n",
       "count       3395.000000         3395.000000    3395.000000  \n",
       "mean           0.000059            0.000142   83598.229161  \n",
       "std            0.000111            0.000265   33497.667966  \n",
       "min            0.000000            0.000000   25224.000000  \n",
       "25%            0.000000            0.000000   60090.000000  \n",
       "50%            0.000000            0.000020   81012.000000  \n",
       "75%            0.000086            0.000181  102074.000000  \n",
       "max            0.000902            0.003084  388032.000000  \n",
       "\n",
       "[8 rows x 21 columns]"
      ]
     },
     "execution_count": 9,
     "metadata": {},
     "output_type": "execute_result"
    }
   ],
   "source": [
    "df.describe()"
   ]
  },
  {
   "cell_type": "markdown",
   "metadata": {},
   "source": [
    "## Distribution of players"
   ]
  },
  {
   "cell_type": "code",
   "execution_count": 12,
   "metadata": {
    "scrolled": true
   },
   "outputs": [
    {
     "data": {
      "text/plain": [
       "<matplotlib.axes._subplots.AxesSubplot at 0x12c9ad1aa48>"
      ]
     },
     "execution_count": 12,
     "metadata": {},
     "output_type": "execute_result"
    },
    {
     "data": {
      "image/png": "[encoded data removed]",
      "text/plain": [
       "<Figure size 432x288 with 1 Axes>"
      ]
     },
     "metadata": {
      "needs_background": "light"
     },
     "output_type": "display_data"
    }
   ],
   "source": [
    "df['LeagueIndex'].value_counts()\n",
    "sns.countplot(x='LeagueIndex', data=df, palette=\"Blues_d\")"
   ]
  },
  {
   "cell_type": "markdown",
   "metadata": {},
   "source": [
    "## Hours per week per league"
   ]
  },
  {
   "cell_type": "code",
   "execution_count": 15,
   "metadata": {},
   "outputs": [
    {
     "data": {
      "image/png": "[encoded data removed]",
      "text/plain": [
       "<Figure size 432x288 with 1 Axes>"
      ]
     },
     "metadata": {
      "needs_background": "light"
     },
     "output_type": "display_data"
    }
   ],
   "source": [
    "HoursWeek_per_League = sns.barplot(x='LeagueIndex', y='HoursPerWeek', data=df, capsize=.2, palette=\"Blues_d\")"
   ]
  },
  {
   "cell_type": "markdown",
   "metadata": {},
   "source": [
    "## Average apm per league\n",
    "\n",
    "APM increase as the league increases"
   ]
  },
  {
   "cell_type": "code",
   "execution_count": 27,
   "metadata": {},
   "outputs": [
    {
     "data": {
      "image/png": "[encoded data removed]",
      "text/plain": [
       "<Figure size 432x288 with 1 Axes>"
      ]
     },
     "metadata": {
      "needs_background": "light"
     },
     "output_type": "display_data"
    }
   ],
   "source": [
    "APM_per_League = sns.barplot(x='LeagueIndex', y='APM', data=df, capsize=.2, palette=\"Blues_d\")"
   ]
  },
  {
   "cell_type": "code",
   "execution_count": 25,
   "metadata": {},
   "outputs": [
    {
     "data": {
      "text/plain": [
       "<seaborn.axisgrid.JointGrid at 0x12c9c2ebe08>"
      ]
     },
     "execution_count": 25,
     "metadata": {},
     "output_type": "execute_result"
    },
    {
     "data": {
      "image/png": "[encoded data removed]",
      "text/plain": [
       "<Figure size 432x432 with 3 Axes>"
      ]
     },
     "metadata": {
      "needs_background": "light"
     },
     "output_type": "display_data"
    }
   ],
   "source": [
    "sns.jointplot(df.LeagueIndex, df.APM, kind='reg')\n",
    "#kind must be either 'scatter', 'reg', 'resid', 'kde', or 'hex'"
   ]
  },
  {
   "cell_type": "code",
   "execution_count": 35,
   "metadata": {},
   "outputs": [
    {
     "data": {
      "text/plain": [
       "<seaborn.axisgrid.JointGrid at 0x12c9dd59b88>"
      ]
     },
     "execution_count": 35,
     "metadata": {},
     "output_type": "execute_result"
    },
    {
     "data": {
      "image/png": "[encoded data removed]",
      "text/plain": [
       "<Figure size 432x432 with 3 Axes>"
      ]
     },
     "metadata": {
      "needs_background": "light"
     },
     "output_type": "display_data"
    }
   ],
   "source": [
    "sns.jointplot(df.LeagueIndex, df.Age, kind='kde')\n",
    "#kind must be either 'scatter', 'reg', 'resid', 'kde', or 'hex'"
   ]
  },
  {
   "cell_type": "code",
   "execution_count": null,
   "metadata": {},
   "outputs": [],
   "source": []
  }
 ],
 "metadata": {
  "kernelspec": {
   "display_name": "Python 3",
   "language": "python",
   "name": "python3"
  },
  "language_info": {
   "codemirror_mode": {
    "name": "ipython",
    "version": 3
   },
   "file_extension": ".py",
   "mimetype": "text/x-python",
   "name": "python",
   "nbconvert_exporter": "python",
   "pygments_lexer": "ipython3",
   "version": "3.7.4"
  }
 },
 "nbformat": 4,
 "nbformat_minor": 2
}
